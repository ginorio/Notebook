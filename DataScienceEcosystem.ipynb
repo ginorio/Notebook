{
 "cells": [
  {
   "cell_type": "markdown",
   "id": "1977200c-9f0e-47df-9424-d2c1e7e1f223",
   "metadata": {},
   "source": [
    "# Data Science Tools and Ecosystem"
   ]
  },
  {
   "cell_type": "markdown",
   "id": "c272b323-0caa-44a6-884a-4e9d539d8916",
   "metadata": {},
   "source": [
    "#### In this notebook, Data Science Tools and Ecosystem are summarized."
   ]
  },
  {
   "cell_type": "markdown",
   "id": "4048dd0c-b767-4cbe-a9f5-ce30954aa10b",
   "metadata": {
    "tags": []
   },
   "source": [
    "#### **Objectives:**\n",
    "* List popular languages for Data Science\n",
    "* List commonly used libraries used by Data Scientists\n",
    "* Take some examples of basic coding\n",
    "* Analyzing patterns and data\n",
    "* Use Big Data"
   ]
  },
  {
   "cell_type": "markdown",
   "id": "9db20a0d-48b3-476e-b026-f41a1149ac64",
   "metadata": {},
   "source": [
    "### Some of the popular languages that Data Scientists use are:\n",
    "1. Python\n",
    "2. SQL\n",
    "3. R\n",
    "4. Java\n"
   ]
  },
  {
   "cell_type": "markdown",
   "id": "597814f0-4c1e-4023-af1d-d8c2912b1b9f",
   "metadata": {},
   "source": [
    "### Some of the commonly used libraries used by Data Scientists include:\n",
    "1. NumPy (python)\n",
    "2. Pandas (python)\n",
    "3. Matplotlib (python)\n",
    "4. caret (R)\n",
    "5. tidyverse (R)"
   ]
  },
  {
   "cell_type": "markdown",
   "id": "705bc2a7-2049-40d3-a29c-c4f9ca8f760b",
   "metadata": {},
   "source": [
    "| Data Science Tools   |\n",
    "|:---------------------:|\n",
    "|Jupyter Notebook   |\n",
    "|R Studio   |\n",
    "|Spyder   |"
   ]
  },
  {
   "cell_type": "markdown",
   "id": "58c7b795-d51e-4d13-876c-c298b57eb7ba",
   "metadata": {},
   "source": [
    "### Below are a few examples of evaluating arithmetic expressions in Python"
   ]
  },
  {
   "cell_type": "code",
   "execution_count": 1,
   "id": "3657fad3-a996-4a5b-bdb7-4edef65e542e",
   "metadata": {
    "tags": []
   },
   "outputs": [
    {
     "data": {
      "text/plain": [
       "17"
      ]
     },
     "execution_count": 1,
     "metadata": {},
     "output_type": "execute_result"
    }
   ],
   "source": [
    "# This a simple arithmetic expression to mutiply then add integers\n",
    "(3*4)+5"
   ]
  },
  {
   "cell_type": "code",
   "execution_count": 3,
   "id": "55af554d-359f-4afb-b4a8-aae81fba244c",
   "metadata": {
    "tags": []
   },
   "outputs": [
    {
     "name": "stdout",
     "output_type": "stream",
     "text": [
      "Hours: 3.3333333333333335\n"
     ]
    }
   ],
   "source": [
    "# This will convert 200 minutes to hours by diving by 60\n",
    "hours=200/60\n",
    "print ('Hours:',hours)"
   ]
  },
  {
   "cell_type": "markdown",
   "id": "92405023-f941-4738-abec-31737fdcf6bf",
   "metadata": {},
   "source": [
    "## Author\n",
    "##### Alberto Idrio"
   ]
  },
  {
   "cell_type": "code",
   "execution_count": null,
   "id": "64caa9c7-ccdd-42f1-9272-eb3e7e41c231",
   "metadata": {},
   "outputs": [],
   "source": []
  }
 ],
 "metadata": {
  "kernelspec": {
   "display_name": "Python",
   "language": "python",
   "name": "conda-env-python-py"
  },
  "language_info": {
   "codemirror_mode": {
    "name": "ipython",
    "version": 3
   },
   "file_extension": ".py",
   "mimetype": "text/x-python",
   "name": "python",
   "nbconvert_exporter": "python",
   "pygments_lexer": "ipython3",
   "version": "3.7.12"
  }
 },
 "nbformat": 4,
 "nbformat_minor": 5
}
